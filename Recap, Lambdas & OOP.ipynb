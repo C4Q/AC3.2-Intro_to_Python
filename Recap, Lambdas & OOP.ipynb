{
 "cells": [
  {
   "cell_type": "markdown",
   "metadata": {},
   "source": [
    "### Variable Assignments"
   ]
  },
  {
   "cell_type": "code",
   "execution_count": 5,
   "metadata": {
    "collapsed": false
   },
   "outputs": [
    {
     "name": "stdout",
     "output_type": "stream",
     "text": [
      "Hello, World. How are you!\n",
      "Hello, World. How are you!\n",
      "Hello\n",
      "Hello\n"
     ]
    }
   ],
   "source": [
    "\n",
    "# basic variables\n",
    "c = 3\n",
    "d = \"3\"\n",
    "e = '3'\n",
    "f = 4.0\n",
    "g = 'He\\'s going to the mall'\n",
    "h = \"He's going to the mall\"\n",
    "\n",
    "# division\n",
    "# python 2 = classic division\n",
    "i = 3/2 # is 1\n",
    "\n",
    "# python 3 = true division\n",
    "i = 3/2 # is 1.66667\n",
    "\n",
    "# string formatting\n",
    "print \"Hello, %s. How are %s\" % (\"World\", \"you!\")\n",
    "print \"Hello, {w}. How are {y}\".format(w=\"World\", y=\"you!\")\n",
    "\n",
    "# printing\n",
    "# python 2 = statement\n",
    "print \"Hello\"\n",
    "\n",
    "# python 3 = function\n",
    "print(\"Hello\")"
   ]
  },
  {
   "cell_type": "markdown",
   "metadata": {},
   "source": [
    "### Iteration"
   ]
  },
  {
   "cell_type": "code",
   "execution_count": 15,
   "metadata": {
    "collapsed": false
   },
   "outputs": [
    {
     "name": "stdout",
     "output_type": "stream",
     "text": [
      "H\n",
      "e\n",
      "l\n",
      "l\n",
      "o\n",
      ",\n",
      " \n",
      "W\n",
      "o\n",
      "r\n",
      "l\n",
      "d\n",
      "!\n"
     ]
    },
    {
     "data": {
      "text/plain": [
       "'l'"
      ]
     },
     "execution_count": 15,
     "metadata": {},
     "output_type": "execute_result"
    }
   ],
   "source": [
    "# iteration\n",
    "st = \"Hello, World!\"\n",
    "# for l in st:\n",
    "#     print l\n",
    "\n",
    "for i in range(len(st)):\n",
    "    print st[i]\n",
    "\n",
    "# st[0]\n",
    "# st[1]\n",
    "# st[2]"
   ]
  },
  {
   "cell_type": "code",
   "execution_count": 74,
   "metadata": {
    "collapsed": false
   },
   "outputs": [
    {
     "name": "stdout",
     "output_type": "stream",
     "text": [
      "0\n",
      "1\n",
      "2\n",
      "3\n",
      "4\n",
      "5\n",
      "6\n",
      "7\n",
      "8\n",
      "9\n",
      "0\n",
      "1\n",
      "2\n",
      "3\n",
      "4\n",
      "5\n",
      "6\n",
      "7\n",
      "8\n",
      "9\n"
     ]
    }
   ],
   "source": [
    "# range iteration\n",
    "rg = range(0, 100, 5)\n",
    "# for i in rg:\n",
    "#     print i\n",
    "\n",
    "# python 2, two versions of range: range, xrange\n",
    "# xrange = generator\n",
    "# generator == lazy evaluation\n",
    "for i in range(0, 10): # more memory\n",
    "    print i\n",
    "    \n",
    "for i in xrange(0, 10): # less memory, lazily used\n",
    "    print i\n",
    "\n",
    "# python 3 uses range only, which is a generator already"
   ]
  },
  {
   "cell_type": "code",
   "execution_count": 16,
   "metadata": {
    "collapsed": false
   },
   "outputs": [
    {
     "data": {
      "text/plain": [
       "'Hello, World!'"
      ]
     },
     "execution_count": 16,
     "metadata": {},
     "output_type": "execute_result"
    }
   ],
   "source": [
    "st"
   ]
  },
  {
   "cell_type": "code",
   "execution_count": 19,
   "metadata": {
    "collapsed": false
   },
   "outputs": [
    {
     "data": {
      "text/plain": [
       "0"
      ]
     },
     "execution_count": 19,
     "metadata": {},
     "output_type": "execute_result"
    }
   ],
   "source": [
    "st.count('z')"
   ]
  },
  {
   "cell_type": "markdown",
   "metadata": {},
   "source": [
    "### String Ranges"
   ]
  },
  {
   "cell_type": "code",
   "execution_count": 36,
   "metadata": {
    "collapsed": false
   },
   "outputs": [
    {
     "name": "stdout",
     "output_type": "stream",
     "text": [
      "llo, World\n",
      "World!\n",
      "Hlo ol!\n",
      "Hlo ol!\n"
     ]
    }
   ],
   "source": [
    "print st[2:-1] # start at pos 2, go to the 2nd to last place\n",
    "print st[-6:] # start at the 6th to last place, and go to the end\n",
    "# Hello, World!\n",
    "#        ^ -6th position\n",
    "\n",
    "print st[::2] # get every other letter\n",
    "print st[0:len(st):2] # every other letter\n",
    "print st[::-2] # every other in reverse"
   ]
  },
  {
   "cell_type": "code",
   "execution_count": 50,
   "metadata": {
    "collapsed": false
   },
   "outputs": [
    {
     "name": "stdout",
     "output_type": "stream",
     "text": [
      "First index:  5\n",
      "Found\n",
      "Found L\n"
     ]
    }
   ],
   "source": [
    "# Hello, World!\n",
    "st.find('l')\n",
    "st.rfind('l')\n",
    "\n",
    "first_index = st.find(', W')\n",
    "print \"First index: \", first_index\n",
    "\n",
    "if \"World\" in st:\n",
    "    print \"Found\"\n",
    "    \n",
    "if \"l\" in st:\n",
    "    print \"Found L\"\n",
    "\n",
    "# first_half = st[0:st.find(', w')]\n",
    "# second_half = st[st.find(',') + 1:]\n",
    "# print first_half\n",
    "# print second_half"
   ]
  },
  {
   "cell_type": "markdown",
   "metadata": {},
   "source": [
    "### Lists"
   ]
  },
  {
   "cell_type": "code",
   "execution_count": 61,
   "metadata": {
    "collapsed": false
   },
   "outputs": [
    {
     "name": "stdout",
     "output_type": "stream",
     "text": [
      "1\n",
      "4\n",
      "16\n",
      "[3, 4, 5, 3, 4, 5, 3, 4, 5]\n"
     ]
    }
   ],
   "source": [
    "l = [1,2,3, \"string\", 4.0]\n",
    "# for e in l:\n",
    "#     print e\n",
    "    \n",
    "def square(x):\n",
    "    for i in x:\n",
    "        print i**2\n",
    "        \n",
    "square([1, 2, 4])\n",
    "# square([\"1\", \"2\", \"3\"]) # produces error at runtime\n",
    "\n",
    "m = [3, 4, 5] * 3 # repeats the array 3 times\n",
    "print m"
   ]
  },
  {
   "cell_type": "markdown",
   "metadata": {},
   "source": [
    "### Dictionaries"
   ]
  },
  {
   "cell_type": "code",
   "execution_count": 72,
   "metadata": {
    "collapsed": false
   },
   "outputs": [
    {
     "name": "stdout",
     "output_type": "stream",
     "text": [
      "key2 value2\n",
      "key1 value1\n",
      "key2 value2\n",
      "key1 value1\n"
     ]
    }
   ],
   "source": [
    "# dictionaries\n",
    "dic = {\"key1\" : \"value1\", \"key2\" : \"value2\" }\n",
    "# print dic\n",
    "# python 2 uses .iteritems()\n",
    "for k,v in dic.iteritems(): # default iteration on a dict returns the keys\n",
    "    print k, v\n",
    "    \n",
    "# python 3 uses .items()\n",
    "for k,v in dic.items():\n",
    "    print k, v"
   ]
  },
  {
   "cell_type": "markdown",
   "metadata": {},
   "source": [
    "### Tuples"
   ]
  },
  {
   "cell_type": "code",
   "execution_count": 80,
   "metadata": {
    "collapsed": false
   },
   "outputs": [
    {
     "name": "stdout",
     "output_type": "stream",
     "text": [
      "3 2 True string\n",
      "66 2 True hello\n",
      "83 9 True world\n"
     ]
    }
   ],
   "source": [
    "# tuples - immutable, use when immutability is prefered. otherwise use list\n",
    "tup = (3, 2, True, \"string\")\n",
    "\n",
    "# tuple are accessed via subscript\n",
    "# tup[3]\n",
    "\n",
    "# tuple are iterable\n",
    "# for t in tup:\n",
    "#     print t\n",
    "    \n",
    "# tuples can also be \"unpacked\"\n",
    "arr_tup = [(3, 2, True, \"string\"), \n",
    "           (66, 2, True, \"hello\"), \n",
    "           (83, 9, True, \"world\")]\n",
    "\n",
    "for x, y, b, s in arr_tup:\n",
    "    print x, y, b, s"
   ]
  },
  {
   "cell_type": "markdown",
   "metadata": {},
   "source": [
    "### Bools & Comparison Operators"
   ]
  },
  {
   "cell_type": "code",
   "execution_count": 85,
   "metadata": {
    "collapsed": false
   },
   "outputs": [
    {
     "name": "stdout",
     "output_type": "stream",
     "text": [
      "Same string\n",
      "Not Same\n",
      "True\n"
     ]
    }
   ],
   "source": [
    "t = True\n",
    "f = False\n",
    "n = None\n",
    "\n",
    "# < > >= <= == != \n",
    "# is, not\n",
    "s1 = 'hello'\n",
    "s2 = 'world'\n",
    "s3 = 'hello'\n",
    "\n",
    "if s1 is s3: # equiv to s1 == s3\n",
    "    print \"Same string\"\n",
    "\n",
    "if s1 is not s2: # equiv to s1 != s2\n",
    "    print \"Not Same\"\n",
    "    \n",
    "# ternary\n",
    "#   a if (condition) else b\n",
    "b = True if 3 < 4 else False\n",
    "print b"
   ]
  },
  {
   "cell_type": "code",
   "execution_count": 87,
   "metadata": {
    "collapsed": false
   },
   "outputs": [],
   "source": [
    "# if, elif, else\n",
    "a = 0\n",
    "b = 1\n",
    "\n",
    "# continue, break, pass\n",
    "if a:\n",
    "    pass\n",
    "elif b:\n",
    "    pass\n",
    "else:\n",
    "    pass\n"
   ]
  },
  {
   "cell_type": "markdown",
   "metadata": {},
   "source": [
    "### Methods"
   ]
  },
  {
   "cell_type": "code",
   "execution_count": 21,
   "metadata": {
    "collapsed": false
   },
   "outputs": [
    {
     "name": "stdout",
     "output_type": "stream",
     "text": [
      "Answer: orld!\n",
      "Answer: orld!\n",
      "Hello, Ben\n",
      "Hello, Louis\n",
      "Hello, Ben\n",
      "Hello, Louis\n"
     ]
    }
   ],
   "source": [
    "def return_last_letter(st):\n",
    "    return st[-1]\n",
    "\n",
    "# print return_last_letter(\"Hello, World!\")\n",
    "\n",
    "def return_last_n_letters(st, n):\n",
    "    return st[-n:]\n",
    "\n",
    "print \"Answer:\", return_last_n_letters(st='Hello, World!', n=5)\n",
    "print \"Answer:\", return_last_n_letters(n=5, st='Hello, World!')\n",
    "# print \"Answer:\", return_last_n_letters(5, 'Hello, World!') # this will error\n",
    "\n",
    "# default values\n",
    "def say_hello(to=\"Louis\"):\n",
    "    print \"Hello, {t}\".format(t=to)\n",
    "\n",
    "# parameters with default values must come after parameters w/o them\n",
    "def say_something(thing, to=\"Louis\"):\n",
    "    print \"{th}, {t}\".format(th=thing, t=to)\n",
    "    \n",
    "say_hello(\"Ben\")\n",
    "say_hello()\n",
    "\n",
    "say_something(\"Hello\", \"Ben\")\n",
    "say_something(\"Hello\")"
   ]
  },
  {
   "cell_type": "code",
   "execution_count": null,
   "metadata": {
    "collapsed": true
   },
   "outputs": [],
   "source": []
  },
  {
   "cell_type": "markdown",
   "metadata": {},
   "source": [
    "### List Comprehensions"
   ]
  },
  {
   "cell_type": "code",
   "execution_count": 26,
   "metadata": {
    "collapsed": false
   },
   "outputs": [
    {
     "name": "stdout",
     "output_type": "stream",
     "text": [
      "['H', 'e', 'l', 'l', 'o']\n",
      "['H', 'e', 'l', 'l', 'o']\n"
     ]
    }
   ],
   "source": [
    "# easy way to perform a single list operation\n",
    "print [letter for letter in [\"H\", \"e\", \"l\", \"l\", \"o\"]]\n",
    "\n",
    "def listify(st):\n",
    "    return_array = []\n",
    "    for letter in st:\n",
    "        return_array.append(letter)\n",
    "    return return_array\n",
    "\n",
    "print listify(\"Hello\")"
   ]
  },
  {
   "cell_type": "code",
   "execution_count": 36,
   "metadata": {
    "collapsed": false
   },
   "outputs": [
    {
     "name": "stdout",
     "output_type": "stream",
     "text": [
      "[4, 9, 16, 25]\n",
      "[4, 16]\n"
     ]
    }
   ],
   "source": [
    "num_list = [2, 3, 4, 5]\n",
    "# (thing to do) (for-loop)\n",
    "# for x in num_list:\n",
    "#   print x**2\n",
    "print [x**2 for x in num_list]\n",
    "\n",
    "# for x in num_list:\n",
    "#   if x % 2 == 0:\n",
    "#     print x**2\n",
    "print [x**2 for x in num_list if x % 2 == 0]"
   ]
  },
  {
   "cell_type": "markdown",
   "metadata": {},
   "source": [
    "### Lambdas"
   ]
  },
  {
   "cell_type": "code",
   "execution_count": 54,
   "metadata": {
    "collapsed": false
   },
   "outputs": [
    {
     "name": "stdout",
     "output_type": "stream",
     "text": [
      "[4, 9, 16, 25, 36]\n",
      "15\n",
      "15\n",
      "[1, 2, 3]\n"
     ]
    }
   ],
   "source": [
    "# lambdas ~= single function closure\n",
    "# most commonly used with map(), filter(), reduce()\n",
    "# \n",
    "# map(func, iter)\n",
    "\n",
    "def square(x):\n",
    "    return x**2\n",
    "\n",
    "#print map(square_odd, [2,3,4,5,6])\n",
    "#         lambda var: operation\n",
    "print map(lambda x: x**2, [2,3,4,5,6])\n",
    "\n",
    "\n",
    "# using reduce\n",
    "def add_all(x):\n",
    "    total = 0\n",
    "    for i in x:\n",
    "        total += i\n",
    "    return total\n",
    "\n",
    "print add_all([1,2,3,4,5])\n",
    "\n",
    "print reduce(lambda a,z: a+z , [1,2,3,4,5])\n",
    "\n",
    "# effectively flattening\n",
    "print reduce(lambda a, b: a+b, [[1],[2],[3]])"
   ]
  },
  {
   "cell_type": "markdown",
   "metadata": {},
   "source": [
    "### OOP"
   ]
  },
  {
   "cell_type": "code",
   "execution_count": 2,
   "metadata": {
    "collapsed": false
   },
   "outputs": [
    {
     "name": "stdout",
     "output_type": "stream",
     "text": [
      "I'm being created!\n",
      "Ronny\n",
      "4\n",
      "I'm being created!\n",
      "tarantula\n",
      "7\n",
      "Imma puppy\n",
      "4\n",
      "WOOOOOF\n",
      "makin' puppy poo!\n",
      "4\n"
     ]
    }
   ],
   "source": [
    "class Animal(object):\n",
    "    num_of_legs = 4\n",
    "    \n",
    "    def __init__(self, name):\n",
    "        print \"I'm being created!\"\n",
    "        self.name = name\n",
    "        \n",
    "    def change_name(self, name):\n",
    "        self.name = name\n",
    "        \n",
    "    def chop_leg(self):\n",
    "        self.num_of_legs = self.num_of_legs - 1\n",
    "        \n",
    "    @staticmethod # this is a decorator\n",
    "    def make_noise():\n",
    "        print 'NOOOOOOOOOISE'\n",
    "\n",
    "a = Animal(\"Johnny\")\n",
    "a.change_name('Ronny') \n",
    "print a.name\n",
    "print a.num_of_legs\n",
    "# a.type = \"Goat\" # you can add attributes on the fly\n",
    "# print a.type\n",
    "\n",
    "# del a.type # you can also delete attributes on the fly\n",
    "# print a.type # no longer exists, causes error to be thrown\n",
    "\n",
    "# b = Animal()\n",
    "# print b.name \n",
    "# Animal.make_noise()\n",
    "\n",
    "class Spider(Animal):\n",
    "    num_of_legs = 8\n",
    "    \n",
    "    def __init__(self, name, species):\n",
    "        Animal.__init__(self, name) # basically, call super.init()\n",
    "        self.species = species\n",
    "        \n",
    "s = Spider(name=\"jerry\", species=\"tarantula\")\n",
    "print s.species\n",
    "s.chop_leg()\n",
    "print s.num_of_legs\n",
    "\n",
    "class Puppy(Animal):\n",
    "    puppy_legs = [\"left front\", \"back left\", \"front right\", \"back right\"]\n",
    "\n",
    "    def __init__(self, name): # overriden init\n",
    "        print \"Imma puppy\"\n",
    "        self.name = name\n",
    "        \n",
    "    # this is what will print for you\n",
    "    # equivalent to having var description: String\n",
    "    # and conforming to CustomStringConvertible\n",
    "    def __str__(self):\n",
    "        return self.name\n",
    "        \n",
    "    def __len__(self):\n",
    "        return self.num_of_legs\n",
    "    \n",
    "    @staticmethod\n",
    "    def make_noise(): # i dont include self, so its not instance method\n",
    "        print \"WOOOOOF\"\n",
    "        \n",
    "    @staticmethod\n",
    "    def make_poops():\n",
    "        print \"makin' puppy poo!\"\n",
    "        \n",
    "p = Puppy(\"ronald\")\n",
    "print p.num_of_legs\n",
    "Puppy.make_noise()\n",
    "Puppy.make_poops()\n",
    "\n",
    "print len(p)"
   ]
  },
  {
   "cell_type": "markdown",
   "metadata": {
    "collapsed": true
   },
   "source": [
    "### Exercise"
   ]
  },
  {
   "cell_type": "code",
   "execution_count": 37,
   "metadata": {
    "collapsed": false
   },
   "outputs": [
    {
     "name": "stdout",
     "output_type": "stream",
     "text": [
      "82\n",
      "5\n",
      "5\n",
      "82\n",
      "In range 1...100\n",
      "In range 1...-100\n",
      "In range 10...100\n"
     ]
    }
   ],
   "source": [
    "# find the max element of a list using a method and a lambda\n",
    "\n",
    "li = [3, 5, 82, 10, -1]\n",
    "def max_item(x):\n",
    "    m = 0\n",
    "    for i in x:\n",
    "        if i > m:\n",
    "            m = i\n",
    "    return m\n",
    "\n",
    "print max_item(li)\n",
    "\n",
    "max_item_lambda = lambda x,y: x if x > y else y # swift is condition ? a : b\n",
    "\n",
    "print max_item_lambda(4, 5)\n",
    "print max_item_lambda(5, 4)\n",
    "print reduce(max_item_lambda, li) # swift is opposite reduce(Array, closure)\n",
    "# todo: add to version control\n",
    "\n",
    "# other stuff, comparisons\n",
    "a = 10\n",
    "\n",
    "if 1 < a < 100:\n",
    "    print \"In range 1...100\"\n",
    "    \n",
    "b = -5\n",
    "if 1 > b > -100:\n",
    "    print \"In range 1...-100\"\n",
    "    \n",
    "c = 20\n",
    "if 10 > 5 < 100:\n",
    "    print \"In range 10...100\"\n",
    "\n",
    "if 3 not in li:\n",
    "    print \"in list\""
   ]
  },
  {
   "cell_type": "code",
   "execution_count": null,
   "metadata": {
    "collapsed": true
   },
   "outputs": [],
   "source": []
  }
 ],
 "metadata": {
  "kernelspec": {
   "display_name": "Python 2",
   "language": "python",
   "name": "python2"
  },
  "language_info": {
   "codemirror_mode": {
    "name": "ipython",
    "version": 2
   },
   "file_extension": ".py",
   "mimetype": "text/x-python",
   "name": "python",
   "nbconvert_exporter": "python",
   "pygments_lexer": "ipython2",
   "version": "2.7.13"
  }
 },
 "nbformat": 4,
 "nbformat_minor": 2
}
