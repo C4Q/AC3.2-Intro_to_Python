{
 "cells": [
  {
   "cell_type": "code",
   "execution_count": 1,
   "metadata": {
    "collapsed": true
   },
   "outputs": [],
   "source": [
    "c = \"string\""
   ]
  },
  {
   "cell_type": "code",
   "execution_count": 2,
   "metadata": {
    "collapsed": false
   },
   "outputs": [
    {
     "data": {
      "text/plain": [
       "'string'"
      ]
     },
     "execution_count": 2,
     "metadata": {},
     "output_type": "execute_result"
    }
   ],
   "source": [
    "c"
   ]
  },
  {
   "cell_type": "code",
   "execution_count": 3,
   "metadata": {
    "collapsed": false
   },
   "outputs": [
    {
     "name": "stdout",
     "output_type": "stream",
     "text": [
      "string\n"
     ]
    }
   ],
   "source": [
    "print c"
   ]
  },
  {
   "cell_type": "code",
   "execution_count": 4,
   "metadata": {
    "collapsed": true
   },
   "outputs": [],
   "source": [
    "d = [None, 4, 3.0, 'string', set(['a']) ]"
   ]
  },
  {
   "cell_type": "code",
   "execution_count": 5,
   "metadata": {
    "collapsed": false
   },
   "outputs": [
    {
     "data": {
      "text/plain": [
       "[None, 4, 3.0, 'string', {'a'}]"
      ]
     },
     "execution_count": 5,
     "metadata": {},
     "output_type": "execute_result"
    }
   ],
   "source": [
    "d"
   ]
  },
  {
   "cell_type": "code",
   "execution_count": 17,
   "metadata": {
    "collapsed": false
   },
   "outputs": [],
   "source": [
    "e = {'a':1, 'b':2}"
   ]
  },
  {
   "cell_type": "code",
   "execution_count": 19,
   "metadata": {
    "collapsed": false
   },
   "outputs": [
    {
     "name": "stdout",
     "output_type": "stream",
     "text": [
      "4\n",
      "9\n",
      "16\n",
      "25\n"
     ]
    },
    {
     "data": {
      "text/plain": [
       "[4, 9, 16, 25]"
      ]
     },
     "execution_count": 19,
     "metadata": {},
     "output_type": "execute_result"
    }
   ],
   "source": [
    "def square(x):\n",
    "    for i in x:\n",
    "        print i**2\n",
    "square([2, 3, 4, 5])\n",
    "\n",
    "# list comps\n",
    "[num**2 for num in [2, 3, 4, 5]]"
   ]
  },
  {
   "cell_type": "code",
   "execution_count": 22,
   "metadata": {
    "collapsed": false
   },
   "outputs": [
    {
     "data": {
      "text/plain": [
       "['bagels', 'bayou']"
      ]
     },
     "execution_count": 22,
     "metadata": {},
     "output_type": "execute_result"
    }
   ],
   "source": [
    "# map, filter reduce\n",
    "# zip, any(), all()\n",
    "\n",
    "# map(func, iterable)\n",
    "lst = [2, 3, 4, 5, 6]\n",
    "\n",
    "# lambdas == closures\n",
    "lambda_closure = lambda x: x**2\n",
    "map(lambda_closure, lst)\n",
    "\n",
    "# get all the words that start with a letter\n",
    "# lambda declares the closure\n",
    "# following that is the variables to use\n",
    "# following that is the function to perform\n",
    "lst = ['hello', 'bagels', 'bayou', 'coffee', 'cat']\n",
    "\n",
    "# filter(func, iterable)\n",
    "filter(lambda x: x[0] == 'b', lst)"
   ]
  },
  {
   "cell_type": "code",
   "execution_count": 26,
   "metadata": {
    "collapsed": false
   },
   "outputs": [
    {
     "name": "stdout",
     "output_type": "stream",
     "text": [
      "True\n",
      "True\n",
      "False \n",
      "\n",
      "False\n",
      "True\n",
      "False\n"
     ]
    }
   ],
   "source": [
    "w_list = ['hello', 'bagels', 'bayou', 'coffee', 'cat']\n",
    "num_list = [2, 3, 4, 5, 6, 7, 8]\n",
    "\n",
    "zip(w_list, num_list)\n",
    "\n",
    "#any/all\n",
    "truth_list = [True, True, True, True]\n",
    "some_truth_list = [True, False, True]\n",
    "false_list = [False, False, False]\n",
    "\n",
    "print any(some_truth_list)\n",
    "print any(truth_list)\n",
    "print any(false_list), '\\n'\n",
    "\n",
    "print all(some_truth_list)\n",
    "print all(truth_list)\n",
    "print all(false_list)"
   ]
  },
  {
   "cell_type": "code",
   "execution_count": 28,
   "metadata": {
    "collapsed": false
   },
   "outputs": [
    {
     "name": "stdout",
     "output_type": "stream",
     "text": [
      "0 hello\n",
      "1 bagels\n",
      "2 bayou\n",
      "3 coffee\n",
      "4 cat\n"
     ]
    }
   ],
   "source": [
    "for i, v in enumerate(w_list):\n",
    "    print i, v"
   ]
  },
  {
   "cell_type": "code",
   "execution_count": null,
   "metadata": {
    "collapsed": true
   },
   "outputs": [],
   "source": []
  }
 ],
 "metadata": {
  "kernelspec": {
   "display_name": "Python 2",
   "language": "python",
   "name": "python2"
  },
  "language_info": {
   "codemirror_mode": {
    "name": "ipython",
    "version": 2
   },
   "file_extension": ".py",
   "mimetype": "text/x-python",
   "name": "python",
   "nbconvert_exporter": "python",
   "pygments_lexer": "ipython2",
   "version": "2.7.13"
  }
 },
 "nbformat": 4,
 "nbformat_minor": 2
}
